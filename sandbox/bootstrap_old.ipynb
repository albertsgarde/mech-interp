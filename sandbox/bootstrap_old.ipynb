{
 "cells": [
  {
   "cell_type": "markdown",
   "metadata": {},
   "source": [
    "# Imports"
   ]
  },
  {
   "cell_type": "code",
   "execution_count": 1,
   "metadata": {},
   "outputs": [],
   "source": [
    "import importlib\n",
    "import json\n",
    "import math\n",
    "from itertools import islice\n",
    "from pathlib import Path\n",
    "from typing import Callable\n",
    "\n",
    "import graphviz\n",
    "import matplotlib.pyplot as plt\n",
    "import numpy as np\n",
    "import pandas as pd\n",
    "import seaborn as sns\n",
    "from n2g import NeuronStats\n",
    "from transformer_lens import HookedTransformer\n",
    "\n",
    "import thesis\n",
    "\n",
    "importlib.reload(thesis)\n",
    "from thesis.device import Device\n",
    "from thesis.mas import MASStore, html"
   ]
  },
  {
   "cell_type": "markdown",
   "metadata": {},
   "source": [
    "# Methods"
   ]
  },
  {
   "cell_type": "code",
   "execution_count": 2,
   "metadata": {},
   "outputs": [],
   "source": [
    "def sorted(x):\n",
    "    sorted_x = x.copy()\n",
    "    sorted_x.sort()\n",
    "    return sorted_x\n",
    "\n",
    "\n",
    "def bootstrap_metric_std(x: np.ndarray, metric: Callable[[np.ndarray], np.ndarray], num_samples: int) -> float:\n",
    "    samples = np.random.choice(x, (num_samples, x.size), replace=True)\n",
    "    means = metric(samples)\n",
    "    std = means.std()\n",
    "    return metric(x), std\n",
    "\n",
    "\n",
    "def bootstrap_mean_std(x: np.ndarray, num_samples: int) -> tuple[float, float]:\n",
    "    return bootstrap_metric_std(x, lambda x: x.mean(axis=-1), num_samples)\n",
    "\n",
    "\n",
    "def bootstrap_min_std(x: np.ndarray, num_samples: int) -> tuple[float, float]:\n",
    "    return bootstrap_metric_std(x, lambda x: x.min(axis=-1), num_samples)\n",
    "\n",
    "\n",
    "def bootstrap_test(x: np.ndarray, y: np.ndarray, num_samples: int) -> float:\n",
    "    x_mean = x.mean()\n",
    "    y_mean = y.mean()\n",
    "    t = (x_mean - y_mean) / math.sqrt(x.var() / x.size + y.var() / y.size)\n",
    "    z = (x.sum() + y.sum()) / (x.size + y.size)\n",
    "    x_prime = x - x_mean + z\n",
    "    y_prime = y - y_mean + z\n",
    "    samples_x = np.random.choice(x_prime, (num_samples, x.size), replace=True)\n",
    "    samples_y = np.random.choice(y_prime, (num_samples, y.size), replace=True)\n",
    "    x_means = samples_x.mean(axis=1)\n",
    "    y_means = samples_y.mean(axis=1)\n",
    "    x_vars = samples_x.var(axis=1)\n",
    "    y_vars = samples_y.var(axis=1)\n",
    "    t_samples = (x_means - y_means) / np.sqrt(x_vars / x.size + y_vars / y.size)\n",
    "    return (t_samples >= t).mean()"
   ]
  },
  {
   "cell_type": "markdown",
   "metadata": {},
   "source": [
    "# Data"
   ]
  },
  {
   "cell_type": "code",
   "execution_count": 3,
   "metadata": {},
   "outputs": [],
   "source": [
    "N_MLP = 2048\n",
    "N_SAE = 2048 * 8\n",
    "N_BOOTSTRAP = 1000\n",
    "\n",
    "outputs_path = Path(\"outputs\")\n",
    "mlp_path = outputs_path / \"mlp_stats.json\"\n",
    "sae_path = outputs_path / \"sae_stats.json\"\n",
    "\n",
    "with mlp_path.open(\"r\", encoding=\"utf-8\") as f:\n",
    "    mlp_stats_json = json.load(f)\n",
    "    mlp_stats = [NeuronStats.from_dict(neuron_stats) for neuron_stats in mlp_stats_json[\"0\"].values()]\n",
    "\n",
    "with sae_path.open(\"r\", encoding=\"utf-8\") as f:\n",
    "    sae_stats_json = json.load(f)\n",
    "    sae_stats = [NeuronStats.from_dict(neuron_stats) for neuron_stats in sae_stats_json]\n",
    "\n",
    "assert len(mlp_stats) == N_MLP\n",
    "assert len(sae_stats) == N_SAE"
   ]
  },
  {
   "cell_type": "code",
   "execution_count": 4,
   "metadata": {},
   "outputs": [],
   "source": [
    "def get_stats(neuron_stats: list[NeuronStats], get: Callable[[NeuronStats], float]) -> list[float]:\n",
    "    return [get(neuron) for neuron in neuron_stats]\n",
    "\n",
    "\n",
    "def stats_df(stats: list[NeuronStats], group: str) -> pd.DataFrame:\n",
    "    return pd.DataFrame(\n",
    "        {\n",
    "            \"accuracy\": get_stats(stats, lambda x: x.accuracy),\n",
    "            \"firing_recall\": get_stats(stats, lambda x: x.firing.recall),\n",
    "            \"firing_precision\": get_stats(stats, lambda x: x.firing.precision),\n",
    "            \"firing_f1\": get_stats(stats, lambda x: x.firing.f1_score),\n",
    "            \"firing_count\": get_stats(stats, lambda x: x.firing.count),\n",
    "            \"non_firing_recall\": get_stats(stats, lambda x: x.non_firing.recall),\n",
    "            \"non_firing_precision\": get_stats(stats, lambda x: x.non_firing.precision),\n",
    "            \"non_firing_f1\": get_stats(stats, lambda x: x.non_firing.f1_score),\n",
    "            \"non_firing_count\": get_stats(stats, lambda x: x.non_firing.count),\n",
    "            \"group\": [group] * len(stats),\n",
    "        }\n",
    "    )\n",
    "\n",
    "\n",
    "mlp_df = stats_df(mlp_stats, \"mlp\")\n",
    "sae_df = stats_df(sae_stats, \"sae\")\n",
    "\n",
    "df = pd.concat([mlp_df, sae_df])"
   ]
  },
  {
   "cell_type": "code",
   "execution_count": 5,
   "metadata": {},
   "outputs": [],
   "source": [
    "mlp_firing_recall = mlp_df[\"firing_recall\"].to_numpy()\n",
    "sae_firing_recall = sae_df[\"firing_recall\"].to_numpy()\n",
    "\n",
    "mlp_firing_precision = mlp_df[\"firing_precision\"].to_numpy()\n",
    "sae_firing_precision = sae_df[\"firing_precision\"].to_numpy()\n",
    "\n",
    "mlp_firing_f1_score = mlp_df[\"firing_f1\"].to_numpy()\n",
    "sae_firing_f1_score = sae_df[\"firing_f1\"].to_numpy()"
   ]
  },
  {
   "cell_type": "markdown",
   "metadata": {},
   "source": [
    "# NaN and means"
   ]
  },
  {
   "cell_type": "code",
   "execution_count": 6,
   "metadata": {},
   "outputs": [
    {
     "name": "stdout",
     "output_type": "stream",
     "text": [
      "MLP nan ratio: 0.00341796875\n",
      "SAE nan ratio: 0.584716796875\n",
      "\n",
      "MLP firing recall mean: 0.38197167938360255\n",
      "SAE firing recall mean: 0.3119768385602392\n",
      "\n",
      "MLP firing precision mean: 0.3513902233222108\n",
      "SAE firing precision mean: 0.7328919709489895\n",
      "\n",
      "MLP firing F1 score mean: 0.28882687914164107\n",
      "SAE firing F1 score mean: 0.6871083182717397\n"
     ]
    }
   ],
   "source": [
    "mlp_nan_ratio = mlp_firing_f1_score[np.isnan(mlp_firing_f1_score)].size / mlp_firing_f1_score.size\n",
    "sae_nan_ratio = sae_firing_f1_score[np.isnan(sae_firing_f1_score)].size / sae_firing_f1_score.size\n",
    "\n",
    "mlp_firing_recall_mean = mlp_firing_recall.mean()\n",
    "sae_firing_recall_mean = sae_firing_recall.mean()\n",
    "\n",
    "mlp_firing_precision_mean = mlp_firing_precision[~np.isnan(mlp_firing_precision)].mean()\n",
    "sae_firing_precision_mean = sae_firing_precision[~np.isnan(sae_firing_precision)].mean()\n",
    "\n",
    "mlp_firing_f1_score_mean = mlp_firing_f1_score[~np.isnan(mlp_firing_f1_score)].mean()\n",
    "sae_firing_f1_score_mean = sae_firing_f1_score[~np.isnan(sae_firing_f1_score)].mean()\n",
    "\n",
    "print(f\"MLP nan ratio: {mlp_nan_ratio}\")\n",
    "print(f\"SAE nan ratio: {sae_nan_ratio}\")\n",
    "print()\n",
    "print(f\"MLP firing recall mean: {mlp_firing_recall_mean}\")\n",
    "print(f\"SAE firing recall mean: {sae_firing_recall_mean}\")\n",
    "print()\n",
    "print(f\"MLP firing precision mean: {mlp_firing_precision_mean}\")\n",
    "print(f\"SAE firing precision mean: {sae_firing_precision_mean}\")\n",
    "print()\n",
    "print(f\"MLP firing F1 score mean: {mlp_firing_f1_score_mean}\")\n",
    "print(f\"SAE firing F1 score mean: {sae_firing_f1_score_mean}\")"
   ]
  },
  {
   "cell_type": "markdown",
   "metadata": {},
   "source": [
    "# Plots"
   ]
  },
  {
   "cell_type": "code",
   "execution_count": 7,
   "metadata": {},
   "outputs": [],
   "source": [
    "counts = {\"mlp\": N_MLP, \"sae\": N_SAE}\n",
    "notnull_counts = {\n",
    "    \"mlp\": (1 - mlp_nan_ratio) * N_MLP,\n",
    "    \"sae\": (1 - sae_nan_ratio) * N_SAE,\n",
    "}\n",
    "notnull_df = df[df[\"firing_precision\"].notnull()]"
   ]
  },
  {
   "cell_type": "code",
   "execution_count": 8,
   "metadata": {},
   "outputs": [
    {
     "data": {
      "image/png": "[encoded data removed]",
      "text/plain": [
       "<Figure size 640x480 with 1 Axes>"
      ]
     },
     "metadata": {},
     "output_type": "display_data"
    }
   ],
   "source": [
    "sns.histplot(data=df, x=\"firing_recall\", hue=\"group\", bins=20, weights=1 / df[\"group\"].map(counts))\n",
    "plt.xlabel(\"Recall\")\n",
    "plt.ylabel(\"Density\")\n",
    "plt.title(\"Distribution of Recall\")\n",
    "plt.show()"
   ]
  },
  {
   "cell_type": "code",
   "execution_count": 9,
   "metadata": {},
   "outputs": [
    {
     "data": {
      "image/png": "[encoded data removed]",
      "text/plain": [
       "<Figure size 1500x400 with 3 Axes>"
      ]
     },
     "metadata": {},
     "output_type": "display_data"
    }
   ],
   "source": [
    "fig, axes = plt.subplots(1, 3, figsize=(15, 4))\n",
    "\n",
    "plot_info = [(\"firing_recall\", \"Recall\"), (\"firing_precision\", \"Precision\"), (\"firing_f1\", \"F1-score\")]\n",
    "for ax, (column, title) in zip(axes, plot_info, strict=True):\n",
    "    sns.histplot(\n",
    "        data=notnull_df, x=column, hue=\"group\", bins=20, weights=1 / notnull_df[\"group\"].map(notnull_counts), ax=ax\n",
    "    )\n",
    "    ax.set_xlabel(title)\n",
    "    ax.set_ylabel(\"Density\")\n",
    "    ax.set_title(f\"Distribution of {title}\")\n",
    "\n",
    "\n",
    "plt.show()"
   ]
  },
  {
   "cell_type": "markdown",
   "metadata": {},
   "source": [
    "# Tests\n",
    "Only done on roughly the best half of each set of features due to issues with NaN's"
   ]
  },
  {
   "cell_type": "code",
   "execution_count": 10,
   "metadata": {},
   "outputs": [
    {
     "name": "stdout",
     "output_type": "stream",
     "text": [
      "MLP firing recall mean: 0.6167556243048715   std: 0.006122307708227268\n",
      "SAE firing recall mean: 0.7512387599898531   std: 0.0038663302957180367\n",
      "stds:      13.46    chebychev p:     0.0055\n",
      "p-value:     1.0000\n",
      "\n",
      "MLP firing precision mean: 0.6451283300838674   std: 0.00811961689225311\n",
      "SAE firing precision mean: 0.7328919709489894   std: 0.004099701980290229\n",
      "stds:       7.18    chebychev p:     0.0194\n",
      "p-value:     1.0000\n",
      "\n",
      "MLP firing F1 score mean: 0.4749241027188639   std: 0.0058374121814324985\n",
      "SAE firing F1 score mean: 0.6871083182717397   std: 0.0040488933145229515\n",
      "stds:      21.46    chebychev p:     0.0022\n",
      "p-value:     1.0000\n"
     ]
    }
   ],
   "source": [
    "MLP_START_INDEX = -int(math.ceil((1 - sae_nan_ratio) * N_MLP))\n",
    "SAE_START_INDEX = -int(math.ceil((1 - sae_nan_ratio) * N_SAE))\n",
    "best_mlp_firing_recall = sorted(mlp_firing_recall)[MLP_START_INDEX:]\n",
    "best_sae_firing_recall = sorted(sae_firing_recall)[SAE_START_INDEX:]\n",
    "mlp_recall_mean, mlp_recall_mean_std = bootstrap_mean_std(best_mlp_firing_recall, N_BOOTSTRAP)\n",
    "sae_recall_mean, sae_recall_mean_std = bootstrap_mean_std(best_sae_firing_recall, N_BOOTSTRAP)\n",
    "print(f\"MLP firing recall mean: {mlp_recall_mean}   std: {mlp_recall_mean_std}\")\n",
    "print(f\"SAE firing recall mean: {sae_recall_mean}   std: {sae_recall_mean_std}\")\n",
    "recall_stds = abs(mlp_recall_mean - sae_recall_mean) / (mlp_recall_mean_std + sae_recall_mean_std)\n",
    "recall_chebychev_p = 1 / (recall_stds**2)\n",
    "recall_bootstrap_p = bootstrap_test(best_mlp_firing_recall, best_sae_firing_recall, N_BOOTSTRAP)\n",
    "print(f\"stds: {recall_stds:10.2f}    chebychev p: {recall_chebychev_p:10.4f}\")\n",
    "print(f\"p-value: {recall_bootstrap_p:10.4f}\")\n",
    "print()\n",
    "\n",
    "best_mlp_firing_precision = sorted(mlp_firing_precision[~np.isnan(mlp_firing_precision)])[MLP_START_INDEX:]\n",
    "best_sae_firing_precision = sorted(sae_firing_precision[~np.isnan(sae_firing_precision)])[SAE_START_INDEX:]\n",
    "mlp_precision_mean, mlp_precision_mean_std = bootstrap_mean_std(best_mlp_firing_precision, N_BOOTSTRAP)\n",
    "sae_precision_mean, sae_precision_mean_std = bootstrap_mean_std(best_sae_firing_precision, N_BOOTSTRAP)\n",
    "print(f\"MLP firing precision mean: \" f\"{mlp_precision_mean}   std: {mlp_precision_mean_std}\")\n",
    "print(f\"SAE firing precision mean: \" f\"{sae_precision_mean}   std: {sae_precision_mean_std}\")\n",
    "precision_stds = abs(mlp_precision_mean - sae_precision_mean) / (mlp_precision_mean_std + sae_precision_mean_std)\n",
    "precision_chebychev_p = 1 / (precision_stds**2)\n",
    "precision_bootstrap_p = bootstrap_test(best_mlp_firing_precision, best_sae_firing_precision, N_BOOTSTRAP)\n",
    "print(f\"stds: {precision_stds:10.2f}    chebychev p: {precision_chebychev_p:10.4f}\")\n",
    "print(f\"p-value: {precision_bootstrap_p:10.4f}\")\n",
    "print()\n",
    "\n",
    "best_mlp_firing_f1_score = sorted(mlp_firing_f1_score[~np.isnan(mlp_firing_f1_score)])[MLP_START_INDEX:]\n",
    "best_sae_firing_f1_score = sorted(sae_firing_f1_score[~np.isnan(sae_firing_f1_score)])[SAE_START_INDEX:]\n",
    "mlp_f1_score_mean, mlp_f1_score_mean_std = bootstrap_mean_std(best_mlp_firing_f1_score, N_BOOTSTRAP)\n",
    "sae_f1_score_mean, sae_f1_score_mean_std = bootstrap_mean_std(best_sae_firing_f1_score, N_BOOTSTRAP)\n",
    "print(f\"MLP firing F1 score mean: {mlp_f1_score_mean}   std: {mlp_f1_score_mean_std}\")\n",
    "print(f\"SAE firing F1 score mean: {sae_f1_score_mean}   std: {sae_f1_score_mean_std}\")\n",
    "f1_score_stds = abs(mlp_f1_score_mean - sae_f1_score_mean) / (mlp_f1_score_mean_std + sae_f1_score_mean_std)\n",
    "f1_score_chebychev_p = 1 / (f1_score_stds**2)\n",
    "f1_score_bootstrap_p = bootstrap_test(best_mlp_firing_f1_score, best_sae_firing_f1_score, N_BOOTSTRAP)\n",
    "print(f\"stds: {f1_score_stds:10.2f}    chebychev p: {f1_score_chebychev_p:10.4f}\")\n",
    "print(f\"p-value: {f1_score_bootstrap_p:10.4f}\")"
   ]
  },
  {
   "cell_type": "markdown",
   "metadata": {},
   "source": [
    "# Investigation"
   ]
  },
  {
   "cell_type": "code",
   "execution_count": 11,
   "metadata": {},
   "outputs": [
    {
     "name": "stdout",
     "output_type": "stream",
     "text": [
      "Loaded pretrained model gelu-1l into HookedTransformer\n"
     ]
    }
   ],
   "source": [
    "device = Device.get()\n",
    "\n",
    "sae_mas_store = MASStore.load(outputs_path / \"gelu-1l-sae_store.zip\", device)\n",
    "\n",
    "model: HookedTransformer = HookedTransformer.from_pretrained(\"gelu-1l\", device=device.torch())  # type: ignore[reportUnknownVariableType]"
   ]
  },
  {
   "cell_type": "code",
   "execution_count": 12,
   "metadata": {},
   "outputs": [
    {
     "name": "stdout",
     "output_type": "stream",
     "text": [
      "Number of NaN features: 9580\n",
      "Number of perfect features: 1342\n",
      "Feature 27 has 22 firing tokens and 4074 non-firing tokens.\n",
      "Feature 38 has 20 firing tokens and 4076 non-firing tokens.\n",
      "Feature 50 has 18 firing tokens and 4094 non-firing tokens.\n",
      "Feature 63 has 20 firing tokens and 4076 non-firing tokens.\n",
      "Feature 67 has 17 firing tokens and 4079 non-firing tokens.\n",
      "Feature 116 has 23 firing tokens and 4073 non-firing tokens.\n",
      "Feature 127 has 30 firing tokens and 4066 non-firing tokens.\n",
      "Feature 128 has 21 firing tokens and 4075 non-firing tokens.\n",
      "Feature 143 has 40 firing tokens and 4056 non-firing tokens.\n",
      "Feature 147 has 21 firing tokens and 4075 non-firing tokens.\n"
     ]
    }
   ],
   "source": [
    "# Skip the first 2048 features since they are MLP features.\n",
    "mas_samples = sae_mas_store.feature_samples()[2048:]\n",
    "mas_activations = sae_mas_store.feature_activations()[2048:]\n",
    "\n",
    "nan_features = sae_df.index[sae_df[\"firing_f1\"].isnull()]\n",
    "perfect_features = sae_df.index[sae_df[\"firing_f1\"] == 1]\n",
    "print(f\"Number of NaN features: {nan_features.size}\")\n",
    "print(f\"Number of perfect features: {perfect_features.size}\")\n",
    "\n",
    "num_samples = 10\n",
    "graph_dir = outputs_path / \"gelu-1l-sae\"\n",
    "\n",
    "nan_dir = outputs_path / \"nan_samples\"\n",
    "nan_dir.mkdir(exist_ok=True, parents=True)\n",
    "for index in islice(nan_features, num_samples):\n",
    "    graph_file = graph_dir / f\"{index}\"\n",
    "    graph = graphviz.Source.from_file(graph_file)\n",
    "    html_str = html.generate_html(model, mas_samples[index], mas_activations[index], n2g_source=graph)\n",
    "    with (nan_dir / f\"{index}.html\").open(\"w\", encoding=\"utf-8\") as f:\n",
    "        f.write(html_str)\n",
    "\n",
    "\n",
    "perfect_dir = outputs_path / \"perfect_samples\"\n",
    "perfect_dir.mkdir(exist_ok=True, parents=True)\n",
    "for index in islice(perfect_features, num_samples):\n",
    "    graph_file = graph_dir / f\"{index}\"\n",
    "    graph = graphviz.Source.from_file(graph_file)\n",
    "    html_str = html.generate_html(model, mas_samples[index], mas_activations[index], n2g_source=graph)\n",
    "    print(\n",
    "        f\"Feature {index} has {sae_df.loc[index, 'firing_count']} firing tokens and \"\n",
    "        f\"{sae_df.loc[index, 'non_firing_count']} non-firing tokens.\"\n",
    "    )\n",
    "    with (perfect_dir / f\"{index}.html\").open(\"w\", encoding=\"utf-8\") as f:\n",
    "        f.write(html_str)"
   ]
  }
 ],
 "metadata": {
  "kernelspec": {
   "display_name": "deepdecipher",
   "language": "python",
   "name": "python3"
  },
  "language_info": {
   "codemirror_mode": {
    "name": "ipython",
    "version": 3
   },
   "file_extension": ".py",
   "mimetype": "text/x-python",
   "name": "python",
   "nbconvert_exporter": "python",
   "pygments_lexer": "ipython3",
   "version": "3.11.4"
  }
 },
 "nbformat": 4,
 "nbformat_minor": 2
}
