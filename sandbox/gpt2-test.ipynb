{
 "cells": [
  {
   "cell_type": "code",
   "execution_count": 2,
   "metadata": {},
   "outputs": [],
   "source": [
    "import torch\n",
    "from torch import Tensor\n",
    "from transformer_lens import HookedTransformer\n",
    "from transformer_lens.hook_points import HookPoint\n",
    "from jaxtyping import Float, Int\n",
    "import requests\n",
    "import functools"
   ]
  },
  {
   "cell_type": "code",
   "execution_count": 3,
   "metadata": {},
   "outputs": [
    {
     "name": "stdout",
     "output_type": "stream",
     "text": [
      "Loaded pretrained model gpt2-small into HookedTransformer\n"
     ]
    }
   ],
   "source": [
    "model = HookedTransformer.from_pretrained(\"gpt2-small\")"
   ]
  },
  {
   "cell_type": "code",
   "execution_count": 4,
   "metadata": {},
   "outputs": [
    {
     "data": {
      "application/vnd.jupyter.widget-view+json": {
       "model_id": "e9f5787864f649d99674ff0c3871ef73",
       "version_major": 2,
       "version_minor": 0
      },
      "text/plain": [
       "  0%|          | 0/10 [00:00<?, ?it/s]"
      ]
     },
     "metadata": {},
     "output_type": "display_data"
    },
    {
     "data": {
      "text/plain": [
       "'the cat is smothering its paw, which means the paw lies'"
      ]
     },
     "execution_count": 4,
     "metadata": {},
     "output_type": "execute_result"
    }
   ],
   "source": [
    "model.generate(\"the cat is sm\")"
   ]
  },
  {
   "cell_type": "code",
   "execution_count": 5,
   "metadata": {},
   "outputs": [
    {
     "name": "stdout",
     "output_type": "stream",
     "text": [
      "tensor([19.7922, 19.6165, 19.4624, 18.2938, 17.9073], device='cuda:0',\n",
      "       grad_fn=<TopkBackward0>)\n"
     ]
    },
    {
     "data": {
      "text/plain": [
       "['eared', 'itten', 'elly', 'ot', 'okin']"
      ]
     },
     "execution_count": 5,
     "metadata": {},
     "output_type": "execute_result"
    }
   ],
   "source": [
    "sample = model.to_tokens(\"the cat is sm\")\n",
    "top_logits, top_tokens = model.run_with_hooks(sample)[0, -1, :].topk(k=5, dim=-1)\n",
    "print(top_logits)\n",
    "model.to_str_tokens(top_tokens)"
   ]
  },
  {
   "cell_type": "code",
   "execution_count": 6,
   "metadata": {},
   "outputs": [],
   "source": [
    "r = requests.get(\"https://deepdecipher.org/api/gpt2-small/neuron2graph-search?query=activating:sm\")"
   ]
  },
  {
   "cell_type": "code",
   "execution_count": 7,
   "metadata": {},
   "outputs": [],
   "source": [
    "layers = [[]] * 12\n",
    "for index in r.json()[\"data\"]:\n",
    "    layer = index[\"layer\"]\n",
    "    neuron = index[\"neuron\"]\n",
    "    layers[layer].append(neuron)"
   ]
  },
  {
   "cell_type": "code",
   "execution_count": 8,
   "metadata": {},
   "outputs": [
    {
     "name": "stdout",
     "output_type": "stream",
     "text": [
      "tensor([20.9554, 20.9068, 20.5438, 19.5182, 18.8950], device='cuda:0',\n",
      "       grad_fn=<TopkBackward0>)\n"
     ]
    },
    {
     "data": {
      "text/plain": [
       "['eared', 'elly', 'itten', 'ot', 'okin']"
      ]
     },
     "execution_count": 8,
     "metadata": {},
     "output_type": "execute_result"
    }
   ],
   "source": [
    "hooks = []\n",
    "\n",
    "\n",
    "def hook_fn(\n",
    "    indices: Int[Tensor, \" _\"], activation: Float[Tensor, \"batch context neurons_per_layer\"], hook: HookPoint\n",
    ") -> None:\n",
    "    activation[:, -1, indices] = 0.0\n",
    "\n",
    "\n",
    "for layer_index, neurons in enumerate(layers):\n",
    "    indices = torch.tensor(neurons)\n",
    "    hook = functools.partial(hook_fn, indices)\n",
    "    hooks.append((f\"blocks.{layer_index}.mlp.hook_post\", hook))\n",
    "\n",
    "\n",
    "top_logits, top_tokens = model.run_with_hooks(sample, fwd_hooks=hooks)[0, -1, :].topk(k=5, dim=-1)\n",
    "print(top_logits)\n",
    "model.to_str_tokens(top_tokens)"
   ]
  },
  {
   "cell_type": "code",
   "execution_count": 12,
   "metadata": {},
   "outputs": [
    {
     "name": "stdout",
     "output_type": "stream",
     "text": [
      "Loaded pretrained model gpt2-large into HookedTransformer\n"
     ]
    },
    {
     "data": {
      "application/vnd.jupyter.widget-view+json": {
       "model_id": "b921780b6d4d406a9f41a4eece8cc05d",
       "version_major": 2,
       "version_minor": 0
      },
      "text/plain": [
       "  0%|          | 0/10 [00:00<?, ?it/s]"
      ]
     },
     "metadata": {},
     "output_type": "display_data"
    },
    {
     "data": {
      "text/plain": [
       "'Apple->Red, Lime->Green, Banana->Pink, Antonchatka Chatter,�'"
      ]
     },
     "execution_count": 12,
     "metadata": {},
     "output_type": "execute_result"
    }
   ],
   "source": [
    "model_large = HookedTransformer.from_pretrained(\"gpt2-large\")\n",
    "model_large.generate(\"Apple->Red, Lime->Green, Banana->\")\n"
   ]
  },
  {
   "cell_type": "code",
   "execution_count": 16,
   "metadata": {},
   "outputs": [
    {
     "name": "stdout",
     "output_type": "stream",
     "text": [
      "Loaded pretrained model gelu-1l into HookedTransformer\n"
     ]
    },
    {
     "data": {
      "application/vnd.jupyter.widget-view+json": {
       "model_id": "ca11882ab2a3490a98ea4ede5ae4b666",
       "version_major": 2,
       "version_minor": 0
      },
      "text/plain": [
       "  0%|          | 0/10 [00:00<?, ?it/s]"
      ]
     },
     "metadata": {},
     "output_type": "display_data"
    },
    {
     "data": {
      "text/plain": [
       "\"the cat is smokin's bead-like visorian-safe material\""
      ]
     },
     "execution_count": 16,
     "metadata": {},
     "output_type": "execute_result"
    }
   ],
   "source": [
    "model_gelu = HookedTransformer.from_pretrained(\"gelu-1l\")\n",
    "model_gelu.generate(\"the cat is sm\")\n"
   ]
  }
 ],
 "metadata": {
  "kernelspec": {
   "display_name": "deepdecipher",
   "language": "python",
   "name": "python3"
  },
  "language_info": {
   "codemirror_mode": {
    "name": "ipython",
    "version": 3
   },
   "file_extension": ".py",
   "mimetype": "text/x-python",
   "name": "python",
   "nbconvert_exporter": "python",
   "pygments_lexer": "ipython3",
   "version": "3.11.4"
  }
 },
 "nbformat": 4,
 "nbformat_minor": 2
}
